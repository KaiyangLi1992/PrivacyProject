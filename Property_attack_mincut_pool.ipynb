{
 "cells": [
  {
   "cell_type": "code",
   "execution_count": 1,
   "metadata": {
    "collapsed": true
   },
   "outputs": [],
   "source": [
    "from split_buck import split_buck\n",
    "from mincut_pool_net import Net\n",
    "from TrainSet import TrainSet\n",
    "from MTL import MTLNetwork\n",
    "\n",
    "import torch\n",
    "from torch.utils.data import DataLoader\n",
    "import torch_geometric.transforms as T\n",
    "from torch_geometric.datasets import TUDataset\n",
    "\n",
    "max_nodes = 111\n",
    "dataset = TUDataset(root='./tmp', name='NCI1')\n",
    "torch.manual_seed(12315)\n",
    "dataset = dataset.shuffle()\n",
    "# dataset_2 = dataset\n",
    "dataset_length = len(dataset)\n",
    "\n",
    "transform = T.ToDense(max_nodes)\n",
    "\n",
    "D_aux = dataset[int(0.4 * dataset_length): int(0.7 * dataset_length)]\n",
    "G_target = dataset[int(0.7 * dataset_length):]\n",
    "\n",
    "buck_num = 8"
   ]
  },
  {
   "cell_type": "code",
   "execution_count": 2,
   "outputs": [],
   "source": [
    "device = torch.device('cuda' if torch.cuda.is_available() else 'cpu')\n",
    "model_path = './NCI_model_mincut_pool.pt'\n",
    "model = Net(dataset.num_features, dataset.num_classes)\n",
    "model = torch.load(model_path)\n",
    "model = model.to(device)\n",
    "\n",
    "D_aux_graph_embedding = []\n",
    "D_aux_num_nodes_raw = []\n",
    "D_aux_num_edges_raw = []\n",
    "D_aux_graph_density_raw = []\n",
    "\n",
    "for index, data in enumerate(D_aux):\n",
    "    D_aux_num_nodes_raw.append(data.num_nodes)\n",
    "    D_aux_num_edges_raw.append(data.num_edges)\n",
    "\n",
    "    density_temp = 2 * data.num_nodes / (data.num_edges * (data.num_edges - 1))\n",
    "    D_aux_graph_density_raw.append(density_temp)\n",
    "\n",
    "    data = transform(data).to(device)\n",
    "    _, _, _, test_output = model(data.x, data.adj)\n",
    "    D_aux_graph_embedding.append(test_output.squeeze(dim=0).cpu())\n",
    "\n",
    "del test_output, data, index, model"
   ],
   "metadata": {
    "collapsed": false
   }
  },
  {
   "cell_type": "code",
   "execution_count": 3,
   "outputs": [],
   "source": [
    "D_aux_length = len(D_aux_num_nodes_raw)\n",
    "\n",
    "D_aux_num_nodes_raw_train = D_aux_num_nodes_raw[:int(0.6 * D_aux_length)]\n",
    "D_aux_num_nodes_raw_test = D_aux_num_nodes_raw[int(0.6 * D_aux_length):]\n",
    "\n",
    "D_aux_num_edges_raw_train = D_aux_num_edges_raw[:int(0.6 * D_aux_length)]\n",
    "D_aux_num_edges_raw_test = D_aux_num_edges_raw[int(0.6 * D_aux_length):]\n",
    "\n",
    "D_aux_graph_embedding_train = D_aux_graph_embedding[:int(0.6 * D_aux_length)]\n",
    "D_aux_graph_embedding_test = D_aux_graph_embedding[int(0.6 * D_aux_length):]\n",
    "\n",
    "D_aux_graph_density_train = D_aux_graph_density_raw[0:int(0.6 * len(D_aux_graph_density_raw))]\n",
    "D_aux_graph_density_test = D_aux_graph_density_raw[int(0.6 * len(D_aux_graph_density_raw)):]"
   ],
   "metadata": {
    "collapsed": false
   }
  },
  {
   "cell_type": "code",
   "execution_count": 4,
   "outputs": [],
   "source": [
    "D_aux_nodes_train = split_buck(D_aux_num_nodes_raw_train, buck_num)\n",
    "D_aux_nodes_test = split_buck(D_aux_num_nodes_raw_test, buck_num)\n",
    "\n",
    "D_aux_edges_train = split_buck(D_aux_num_edges_raw_train, buck_num)\n",
    "D_aux_edges_test = split_buck(D_aux_num_edges_raw_test, buck_num)\n",
    "\n",
    "D_aux_density_train = split_buck(D_aux_graph_density_train, buck_num)\n",
    "D_aux_density_test = split_buck(D_aux_graph_density_test, buck_num)"
   ],
   "metadata": {
    "collapsed": false
   }
  },
  {
   "cell_type": "code",
   "execution_count": 5,
   "outputs": [],
   "source": [
    "myDataset = TrainSet(D_aux_graph_embedding_train, D_aux_nodes_train, D_aux_edges_train, D_aux_density_train)\n",
    "train_loader = DataLoader(myDataset, batch_size=200, shuffle=True)"
   ],
   "metadata": {
    "collapsed": false
   }
  },
  {
   "cell_type": "code",
   "execution_count": 6,
   "outputs": [],
   "source": [
    "model = MTLNetwork(buck_num).to(device)\n",
    "criterion = torch.nn.CrossEntropyLoss()\n",
    "optimizer = torch.optim.Adam(model.parameters(), lr=1e-4)"
   ],
   "metadata": {
    "collapsed": false
   }
  },
  {
   "cell_type": "code",
   "execution_count": 7,
   "outputs": [],
   "source": [
    "def train():\n",
    "    model.train()\n",
    "    total_loss = 0\n",
    "\n",
    "    for data in train_loader:\n",
    "        inputs, num_nodes, num_edges, graph_density = data\n",
    "        optimizer.zero_grad()\n",
    "        inputs = inputs.detach()\n",
    "        num_nodes = num_nodes.detach()\n",
    "        num_edges = num_edges.detach()\n",
    "        graph_density = graph_density.detach()\n",
    "\n",
    "        pred_nodes, pred_edges, pred_density = model(inputs.to(device))\n",
    "        loss_1 = criterion(pred_nodes, num_nodes.type(torch.LongTensor).to(device))\n",
    "        loss_2 = criterion(pred_edges, num_edges.type(torch.LongTensor).to(device))\n",
    "        loss_3 = criterion(pred_density, graph_density.type(torch.LongTensor).to(device))\n",
    "\n",
    "        loss = loss_1 + loss_2 + loss_3\n",
    "\n",
    "        loss.backward()\n",
    "        optimizer.step()\n",
    "\n",
    "        total_loss += loss.item()\n",
    "\n",
    "    return total_loss / len(D_aux_nodes_train)"
   ],
   "metadata": {
    "collapsed": false
   }
  },
  {
   "cell_type": "code",
   "execution_count": 8,
   "outputs": [],
   "source": [
    "myTestData = TrainSet(D_aux_graph_embedding_test, D_aux_nodes_test, D_aux_edges_test, D_aux_density_test)\n",
    "test_loader = DataLoader(myTestData, batch_size=1, shuffle=False)"
   ],
   "metadata": {
    "collapsed": false
   }
  },
  {
   "cell_type": "code",
   "execution_count": 9,
   "outputs": [],
   "source": [
    "@torch.no_grad()\n",
    "def test():\n",
    "    model.eval()\n",
    "    total_loss = 0\n",
    "    accu_nodes = 0\n",
    "    accu_edges = 0\n",
    "    accu_density = 0\n",
    "\n",
    "    for data in test_loader:\n",
    "        inputs, num_nodes, num_edges, graph_density = data\n",
    "        inputs = inputs.detach()\n",
    "        num_nodes = num_nodes.detach()\n",
    "        num_edges = num_edges.detach()\n",
    "        graph_density = graph_density.detach()\n",
    "\n",
    "        pred_nodes, pred_edges, pred_density = model(inputs.to(device))\n",
    "\n",
    "        pred_nodes_argmax = torch.argmax(pred_nodes, dim=1).type(torch.float).cpu()\n",
    "        pred_edges_argmax = torch.argmax(pred_edges, dim=1).type(torch.float).cpu()\n",
    "        pred_density_argmax = torch.argmax(pred_density, dim=1).type(torch.float).cpu()\n",
    "        # print(pred_density_argmax, '      ', graph_density)\n",
    "\n",
    "        if torch.equal(pred_nodes_argmax, num_nodes):\n",
    "            accu_nodes += 1\n",
    "\n",
    "        if torch.equal(pred_edges_argmax, num_edges):\n",
    "            accu_edges += 1\n",
    "\n",
    "        if torch.equal(pred_density_argmax, graph_density):\n",
    "            accu_density += 1\n",
    "\n",
    "        loss_1 = criterion(pred_nodes, num_nodes.type(torch.LongTensor).to(device))\n",
    "\n",
    "        loss_2 = criterion(pred_edges, num_edges.type(torch.LongTensor).to(device))\n",
    "\n",
    "        loss_3 = criterion(pred_density, graph_density.type(torch.LongTensor).to(device))\n",
    "\n",
    "        loss = loss_1 + loss_2 + loss_3\n",
    "\n",
    "        total_loss += loss.item()\n",
    "\n",
    "    return total_loss / len(D_aux_nodes_test), accu_nodes / len(D_aux_nodes_test), accu_edges / len(\n",
    "        D_aux_nodes_test), accu_density / len(D_aux_nodes_test)"
   ],
   "metadata": {
    "collapsed": false
   }
  },
  {
   "cell_type": "code",
   "execution_count": 10,
   "outputs": [
    {
     "name": "stdout",
     "output_type": "stream",
     "text": [
      "Epoch:    0, Train loss: 0.0338, Test loss: 6.2349, Test node accu: 0.0182, Test edge accu: 0.0628, Test density accu: 0.1235\n",
      "Epoch:    1, Train loss: 0.0337, Test loss: 6.2264, Test node accu: 0.1761, Test edge accu: 0.1174, Test density accu: 0.1235\n",
      "Epoch:    2, Train loss: 0.0337, Test loss: 6.2173, Test node accu: 0.1640, Test edge accu: 0.1174, Test density accu: 0.1761\n",
      "Epoch:    3, Train loss: 0.0336, Test loss: 6.2058, Test node accu: 0.2166, Test edge accu: 0.1174, Test density accu: 0.1883\n",
      "Epoch:    4, Train loss: 0.0336, Test loss: 6.1913, Test node accu: 0.2510, Test edge accu: 0.1174, Test density accu: 0.2126\n",
      "Epoch:    5, Train loss: 0.0335, Test loss: 6.1727, Test node accu: 0.2632, Test edge accu: 0.1397, Test density accu: 0.2328\n",
      "Epoch:    6, Train loss: 0.0334, Test loss: 6.1485, Test node accu: 0.2652, Test edge accu: 0.2024, Test density accu: 0.2409\n",
      "Epoch:    7, Train loss: 0.0332, Test loss: 6.1174, Test node accu: 0.2672, Test edge accu: 0.2247, Test density accu: 0.2611\n",
      "Epoch:    8, Train loss: 0.0330, Test loss: 6.0764, Test node accu: 0.2672, Test edge accu: 0.2429, Test density accu: 0.2611\n",
      "Epoch:    9, Train loss: 0.0328, Test loss: 6.0235, Test node accu: 0.2652, Test edge accu: 0.2490, Test density accu: 0.2591\n",
      "Epoch:   10, Train loss: 0.0325, Test loss: 5.9562, Test node accu: 0.2632, Test edge accu: 0.2510, Test density accu: 0.2632\n",
      "Epoch:   11, Train loss: 0.0321, Test loss: 5.8727, Test node accu: 0.2773, Test edge accu: 0.2551, Test density accu: 0.3117\n",
      "Epoch:   12, Train loss: 0.0316, Test loss: 5.7713, Test node accu: 0.3077, Test edge accu: 0.2591, Test density accu: 0.3259\n",
      "Epoch:   13, Train loss: 0.0309, Test loss: 5.6527, Test node accu: 0.3421, Test edge accu: 0.2652, Test density accu: 0.3300\n",
      "Epoch:   14, Train loss: 0.0302, Test loss: 5.5198, Test node accu: 0.3583, Test edge accu: 0.2773, Test density accu: 0.3381\n",
      "Epoch:   15, Train loss: 0.0295, Test loss: 5.3755, Test node accu: 0.3725, Test edge accu: 0.2794, Test density accu: 0.3421\n",
      "Epoch:   16, Train loss: 0.0286, Test loss: 5.2226, Test node accu: 0.3806, Test edge accu: 0.3097, Test density accu: 0.3522\n",
      "Epoch:   17, Train loss: 0.0279, Test loss: 5.0601, Test node accu: 0.3806, Test edge accu: 0.3198, Test density accu: 0.3603\n",
      "Epoch:   18, Train loss: 0.0269, Test loss: 4.8800, Test node accu: 0.4170, Test edge accu: 0.3543, Test density accu: 0.3765\n",
      "Epoch:   19, Train loss: 0.0259, Test loss: 4.6942, Test node accu: 0.4433, Test edge accu: 0.3927, Test density accu: 0.4069\n",
      "Epoch:   20, Train loss: 0.0247, Test loss: 4.4973, Test node accu: 0.4615, Test edge accu: 0.4352, Test density accu: 0.4190\n",
      "Epoch:   21, Train loss: 0.0236, Test loss: 4.3054, Test node accu: 0.4919, Test edge accu: 0.4798, Test density accu: 0.4393\n",
      "Epoch:   22, Train loss: 0.0225, Test loss: 4.1056, Test node accu: 0.5243, Test edge accu: 0.5344, Test density accu: 0.4676\n",
      "Epoch:   23, Train loss: 0.0215, Test loss: 3.9275, Test node accu: 0.5709, Test edge accu: 0.5587, Test density accu: 0.5081\n",
      "Epoch:   24, Train loss: 0.0205, Test loss: 3.7635, Test node accu: 0.6053, Test edge accu: 0.5628, Test density accu: 0.5263\n",
      "Epoch:   25, Train loss: 0.0194, Test loss: 3.6010, Test node accu: 0.6073, Test edge accu: 0.5709, Test density accu: 0.5466\n",
      "Epoch:   26, Train loss: 0.0187, Test loss: 3.4661, Test node accu: 0.6174, Test edge accu: 0.6073, Test density accu: 0.5506\n",
      "Epoch:   27, Train loss: 0.0179, Test loss: 3.3396, Test node accu: 0.6336, Test edge accu: 0.6336, Test density accu: 0.5810\n",
      "Epoch:   28, Train loss: 0.0172, Test loss: 3.2370, Test node accu: 0.6417, Test edge accu: 0.6478, Test density accu: 0.5870\n",
      "Epoch:   29, Train loss: 0.0166, Test loss: 3.1293, Test node accu: 0.6437, Test edge accu: 0.6660, Test density accu: 0.5951\n",
      "Epoch:   30, Train loss: 0.0162, Test loss: 3.0814, Test node accu: 0.6377, Test edge accu: 0.6538, Test density accu: 0.5870\n",
      "Epoch:   31, Train loss: 0.0157, Test loss: 2.9746, Test node accu: 0.6336, Test edge accu: 0.6984, Test density accu: 0.6012\n",
      "Epoch:   32, Train loss: 0.0153, Test loss: 2.9575, Test node accu: 0.6316, Test edge accu: 0.6559, Test density accu: 0.6113\n",
      "Epoch:   33, Train loss: 0.0150, Test loss: 2.8755, Test node accu: 0.6457, Test edge accu: 0.6883, Test density accu: 0.5992\n",
      "Epoch:   34, Train loss: 0.0146, Test loss: 2.8581, Test node accu: 0.6296, Test edge accu: 0.6700, Test density accu: 0.5891\n",
      "Epoch:   35, Train loss: 0.0145, Test loss: 2.8236, Test node accu: 0.6538, Test edge accu: 0.6680, Test density accu: 0.5891\n",
      "Epoch:   36, Train loss: 0.0143, Test loss: 2.7791, Test node accu: 0.6478, Test edge accu: 0.6822, Test density accu: 0.5931\n",
      "Epoch:   37, Train loss: 0.0140, Test loss: 2.8031, Test node accu: 0.6377, Test edge accu: 0.6761, Test density accu: 0.6012\n",
      "Epoch:   38, Train loss: 0.0139, Test loss: 2.7235, Test node accu: 0.6316, Test edge accu: 0.6943, Test density accu: 0.5992\n",
      "Epoch:   39, Train loss: 0.0138, Test loss: 2.7689, Test node accu: 0.6417, Test edge accu: 0.6518, Test density accu: 0.6032\n",
      "Epoch:   40, Train loss: 0.0138, Test loss: 2.7053, Test node accu: 0.6397, Test edge accu: 0.6964, Test density accu: 0.6113\n",
      "Epoch:   41, Train loss: 0.0137, Test loss: 2.7354, Test node accu: 0.6296, Test edge accu: 0.6660, Test density accu: 0.6093\n",
      "Epoch:   42, Train loss: 0.0134, Test loss: 2.7253, Test node accu: 0.6377, Test edge accu: 0.6660, Test density accu: 0.6012\n",
      "Epoch:   43, Train loss: 0.0133, Test loss: 2.6579, Test node accu: 0.6579, Test edge accu: 0.6984, Test density accu: 0.6113\n",
      "Epoch:   44, Train loss: 0.0133, Test loss: 2.7074, Test node accu: 0.6599, Test edge accu: 0.6721, Test density accu: 0.6012\n",
      "Epoch:   45, Train loss: 0.0130, Test loss: 2.6894, Test node accu: 0.6559, Test edge accu: 0.6741, Test density accu: 0.5951\n",
      "Epoch:   46, Train loss: 0.0131, Test loss: 2.6893, Test node accu: 0.6518, Test edge accu: 0.6700, Test density accu: 0.6012\n",
      "Epoch:   47, Train loss: 0.0130, Test loss: 2.6566, Test node accu: 0.6579, Test edge accu: 0.6903, Test density accu: 0.6073\n",
      "Epoch:   48, Train loss: 0.0131, Test loss: 2.6632, Test node accu: 0.6478, Test edge accu: 0.6842, Test density accu: 0.6134\n",
      "Epoch:   49, Train loss: 0.0129, Test loss: 2.6587, Test node accu: 0.6640, Test edge accu: 0.6700, Test density accu: 0.5931\n",
      "Epoch:   50, Train loss: 0.0129, Test loss: 2.7064, Test node accu: 0.6538, Test edge accu: 0.6559, Test density accu: 0.6032\n",
      "Epoch:   51, Train loss: 0.0128, Test loss: 2.6213, Test node accu: 0.6599, Test edge accu: 0.6923, Test density accu: 0.6032\n",
      "Epoch:   52, Train loss: 0.0128, Test loss: 2.6529, Test node accu: 0.6599, Test edge accu: 0.6842, Test density accu: 0.6093\n",
      "Epoch:   53, Train loss: 0.0126, Test loss: 2.6180, Test node accu: 0.6680, Test edge accu: 0.6862, Test density accu: 0.6053\n",
      "Epoch:   54, Train loss: 0.0126, Test loss: 2.6366, Test node accu: 0.6660, Test edge accu: 0.6781, Test density accu: 0.5911\n",
      "Epoch:   55, Train loss: 0.0126, Test loss: 2.6675, Test node accu: 0.6660, Test edge accu: 0.6640, Test density accu: 0.6174\n",
      "Epoch:   56, Train loss: 0.0127, Test loss: 2.5787, Test node accu: 0.6640, Test edge accu: 0.6883, Test density accu: 0.6134\n",
      "Epoch:   57, Train loss: 0.0125, Test loss: 2.6266, Test node accu: 0.6741, Test edge accu: 0.6822, Test density accu: 0.6093\n",
      "Epoch:   58, Train loss: 0.0125, Test loss: 2.6550, Test node accu: 0.6640, Test edge accu: 0.6721, Test density accu: 0.6113\n",
      "Epoch:   59, Train loss: 0.0125, Test loss: 2.5792, Test node accu: 0.6721, Test edge accu: 0.6903, Test density accu: 0.6134\n"
     ]
    }
   ],
   "source": [
    "test_accu_record = []\n",
    "for epoch in range(60):\n",
    "    train_loss = train()\n",
    "    test_loss, test_nodes_accu, test_edges_accu, test_density_accu = test()\n",
    "    test_accu_record.append([test_nodes_accu, test_edges_accu, test_density_accu])\n",
    "    print(\n",
    "        f'Epoch: {epoch:4d}, Train loss: {train_loss:.4f}, Test loss: {test_loss:.4f}, Test node accu: {test_nodes_accu:.4f}, Test edge accu: {test_edges_accu:.4f}, Test density accu: {test_density_accu:.4f}')"
   ],
   "metadata": {
    "collapsed": false
   }
  },
  {
   "cell_type": "code",
   "execution_count": 11,
   "outputs": [
    {
     "data": {
      "text/plain": "array([0.66801619, 0.67935223, 0.61295547])"
     },
     "execution_count": 11,
     "metadata": {},
     "output_type": "execute_result"
    }
   ],
   "source": [
    "import numpy as np\n",
    "\n",
    "test_accu_record = np.array(test_accu_record[-5:])\n",
    "np.mean(test_accu_record, axis=0)"
   ],
   "metadata": {
    "collapsed": false
   }
  },
  {
   "cell_type": "code",
   "execution_count": 11,
   "outputs": [],
   "source": [],
   "metadata": {
    "collapsed": false
   }
  }
 ],
 "metadata": {
  "kernelspec": {
   "display_name": "Python 3",
   "language": "python",
   "name": "python3"
  },
  "language_info": {
   "codemirror_mode": {
    "name": "ipython",
    "version": 2
   },
   "file_extension": ".py",
   "mimetype": "text/x-python",
   "name": "python",
   "nbconvert_exporter": "python",
   "pygments_lexer": "ipython2",
   "version": "2.7.6"
  }
 },
 "nbformat": 4,
 "nbformat_minor": 0
}
